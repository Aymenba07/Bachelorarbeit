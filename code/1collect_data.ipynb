{
 "cells": [
  {
   "cell_type": "markdown",
   "metadata": {},
   "source": [
    "# Collect initial data\n",
    "\n",
    "acquisition of data listed in resources and understanding them as\n",
    "well as initial data preparation steps"
   ]
  },
  {
   "cell_type": "markdown",
   "metadata": {},
   "source": [
    "## Available data\n",
    "We deal with 4 datasets, related to: \n",
    "- Yellow Taxi Trip Records (available from 01.2009) \n",
    "- Green Taxi Trip Records(available from 08.2013)\n",
    "- For-Hire Vehicle Trip Records( available from 01.2016)\n",
    "- High Volume For-Hire Vehicle Trip Records( available from 02.2019)\n",
    "we will limit our data, to those starting from 2016. \n"
   ]
  },
  {
   "cell_type": "markdown",
   "metadata": {},
   "source": [
    "## API DATA SOURCES\n",
    "  - Yellow Taxi Trip Records\n",
    "    -  01.2015 - 06.2015: \"2yzn-sicd\"\n",
    "    -  01.2016 - 06.2016: \"uacg-pexx\"\n",
    "    -  2017: \"biws-g3hs\"\n",
    "    -  2018: \"t29m-gskq\"\n",
    "    -  2019: \"2upf-qytp\"\n",
    "    -  2020: \"kxp8-n2sj\"\n",
    "    -  2021: \"m6nq-qud6\"\n",
    "  \n",
    "  - Green Taxi Trip Records(available from 08.2013)\n",
    "    -  2015: \"gi8d-wdg5\"\n",
    "    -  2016: \"hvrh-b6nb\"\n",
    "    -  2017: \"5gj9-2kzx\"\n",
    "    -  2018: \"w7fs-fd9i\"\n",
    "    -  2019: \"q5mz-t52e\"\n",
    "    -  2020: \"pkmi-4kfn\"\n",
    "    -  2021: \"djnb-wcxt\"\n",
    "  \n",
    "  - For-Hire Vehicle Trip Records( available from 01.2016)\n",
    "    -  2015: \"\"\n",
    "    -  2016: \"yini-w76t\"\n",
    "    -  2017: \"avz8-mqzz\"\n",
    "    -  2018: \"am94-epxh\"\n",
    "    -  2019: \"u6nh-b56h\"\n",
    "    -  2020: \"m3yx-mvk4\"\n",
    "    -  2021: \"a444-au9b\"\n",
    "  \n",
    "  - High Volume For-Hire Vehicle Trip Records( available from 02.2019)\n",
    "    -  2019: \"rebk-rr49\"\n",
    "    -  2020: \"yrt9-58g8\"\n",
    "    -  2021: \"4p5c-cbgn\"\n"
   ]
  },
  {
   "cell_type": "markdown",
   "metadata": {},
   "source": [
    "## Creating api request\n",
    "this step is done a python file to make it callable in other work since its redundant in different steps"
   ]
  },
  {
   "cell_type": "code",
   "execution_count": 4,
   "metadata": {},
   "outputs": [],
   "source": [
    "import useful_usage as u\n",
    "import pandas as pd"
   ]
  },
  {
   "cell_type": "markdown",
   "metadata": {},
   "source": [
    "### example of api call"
   ]
  },
  {
   "cell_type": "code",
   "execution_count": 7,
   "metadata": {},
   "outputs": [],
   "source": [
    "yellow_orginal = u.fetch_data(\"m6nq-qud6\")\n",
    "yellow_orginal_df = pd.DataFrame.from_records(yellow_orginal)\n",
    "\n"
   ]
  }
 ],
 "metadata": {
  "interpreter": {
   "hash": "07530d4378e6b55bee08456f49e634e5c4c1efeb4e758a77805b6edbb8f6822a"
  },
  "kernelspec": {
   "display_name": "Python 3.10.4 64-bit (windows store)",
   "language": "python",
   "name": "python3"
  },
  "language_info": {
   "codemirror_mode": {
    "name": "ipython",
    "version": 3
   },
   "file_extension": ".py",
   "mimetype": "text/x-python",
   "name": "python",
   "nbconvert_exporter": "python",
   "pygments_lexer": "ipython3",
   "version": "3.10.4"
  },
  "orig_nbformat": 4
 },
 "nbformat": 4,
 "nbformat_minor": 2
}
